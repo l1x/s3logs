{
 "cells": [
  {
   "cell_type": "code",
   "execution_count": 14,
   "metadata": {},
   "outputs": [
    {
     "name": "stderr",
     "output_type": "stream",
     "text": [
      "\u001b[32m\u001b[1m  Resolving\u001b[22m\u001b[39m package versions...\n",
      "\u001b[32m\u001b[1mNo Changes\u001b[22m\u001b[39m to `~/.julia/environments/v1.5/Project.toml`\n",
      "\u001b[32m\u001b[1mNo Changes\u001b[22m\u001b[39m to `~/.julia/environments/v1.5/Manifest.toml`\n",
      "\u001b[32m\u001b[1m  Resolving\u001b[22m\u001b[39m package versions...\n",
      "\u001b[32m\u001b[1mUpdating\u001b[22m\u001b[39m `~/.julia/environments/v1.5/Project.toml`\n",
      " \u001b[90m [cd3eb016] \u001b[39m\u001b[92m+ HTTP v0.9.0\u001b[39m\n",
      "\u001b[32m\u001b[1mNo Changes\u001b[22m\u001b[39m to `~/.julia/environments/v1.5/Manifest.toml`\n"
     ]
    }
   ],
   "source": [
    "import Pkg; \n",
    "Pkg.add(\"JDBC\"); \n",
    "Pkg.add(\"HTTP\")"
   ]
  },
  {
   "cell_type": "code",
   "execution_count": 20,
   "metadata": {},
   "outputs": [
    {
     "name": "stderr",
     "output_type": "stream",
     "text": [
      "┌ Info: Precompiling JDBC [6042db11-3c3d-5e84-8dba-9cbf74c9ba48]\n",
      "└ @ Base loading.jl:1278\n",
      "┌ Warning: JavaCall needs the environment variable `JULIA_COPY_STACKS` to be `1` or `yes`.\n",
      "│ Calling the JVM may result in undefined behavior.\n",
      "└ @ JavaCall ~/.julia/packages/JavaCall/aVXyt/src/JavaCall.jl:53\n",
      "┌ Warning: JavaCall needs the environment variable `JULIA_COPY_STACKS` to be `1` or `yes`.\n",
      "│ Calling the JVM may result in undefined behavior.\n",
      "└ @ JavaCall /Users/l1x/.julia/packages/JavaCall/aVXyt/src/JavaCall.jl:53\n"
     ]
    }
   ],
   "source": [
    "using HTTP, JDBC"
   ]
  },
  {
   "cell_type": "code",
   "execution_count": 18,
   "metadata": {},
   "outputs": [
    {
     "name": "stderr",
     "output_type": "stream",
     "text": [
      "┌ Info: Downloading\n",
      "│   source = https://s3.amazonaws.com/athena-downloads/drivers/JDBC/SimbaAthenaJDBC-2.0.16.1000/AthenaJDBC42.jar\n",
      "│   dest = /Users/l1x/code/l1x/s3logs/notebook/AthenaJDBC42.jar\n",
      "│   progress = 0.0716\n",
      "│   time_taken = 1.01 s\n",
      "│   time_remaining = 13.07 s\n",
      "│   average_speed = 690.798 KiB/s\n",
      "│   downloaded = 695.634 KiB\n",
      "│   remaining = 8.815 MiB\n",
      "│   total = 9.494 MiB\n",
      "└ @ HTTP /Users/l1x/.julia/packages/HTTP/RwjlP/src/download.jl:119\n",
      "┌ Info: Downloading\n",
      "│   source = https://s3.amazonaws.com/athena-downloads/drivers/JDBC/SimbaAthenaJDBC-2.0.16.1000/AthenaJDBC42.jar\n",
      "│   dest = /Users/l1x/code/l1x/s3logs/notebook/AthenaJDBC42.jar\n",
      "│   progress = 1.0\n",
      "│   time_taken = 1.9 s\n",
      "│   time_remaining = 0.0 s\n",
      "│   average_speed = 4.984 MiB/s\n",
      "│   downloaded = 9.494 MiB\n",
      "│   remaining = 0 bytes\n",
      "│   total = 9.494 MiB\n",
      "└ @ HTTP /Users/l1x/.julia/packages/HTTP/RwjlP/src/download.jl:119\n"
     ]
    },
    {
     "data": {
      "text/plain": [
       "\"/Users/l1x/code/l1x/s3logs/notebook/AthenaJDBC42.jar\""
      ]
     },
     "execution_count": 18,
     "metadata": {},
     "output_type": "execute_result"
    }
   ],
   "source": [
    "url = \"https://s3.amazonaws.com/athena-downloads/drivers/JDBC/SimbaAthenaJDBC-2.0.16.1000/AthenaJDBC42.jar\"\n",
    "HTTP.download(url, pwd())"
   ]
  },
  {
   "cell_type": "code",
   "execution_count": 22,
   "metadata": {},
   "outputs": [
    {
     "ename": "LoadError",
     "evalue": "JavaCall.JavaCallError(\"Either the environmental variable JULIA_COPY_STACKS must be 1 OR JavaCall must be used on the root Task.\")",
     "output_type": "error",
     "traceback": [
      "JavaCall.JavaCallError(\"Either the environmental variable JULIA_COPY_STACKS must be 1 OR JavaCall must be used on the root Task.\")",
      "",
      "Stacktrace:",
      " [1] assertroottask_or_goodenv at /Users/l1x/.julia/packages/JavaCall/aVXyt/src/jvm.jl:236 [inlined]",
      " [2] _init(::Array{String,1}) at /Users/l1x/.julia/packages/JavaCall/aVXyt/src/jvm.jl:285",
      " [3] init() at /Users/l1x/.julia/packages/JavaCall/aVXyt/src/jvm.jl:277",
      " [4] init() at /Users/l1x/.julia/packages/JDBC/2ruzk/src/JDBC.jl:40",
      " [5] top-level scope at In[22]:2",
      " [6] include_string(::Function, ::Module, ::String, ::String) at ./loading.jl:1091"
     ]
    }
   ],
   "source": [
    "JDBC.usedriver(\"/Users/l1x/code/l1x/s3logs/notebook/AthenaJDBC42.jar\")\n",
    "JDBC.init()"
   ]
  }
 ],
 "metadata": {
  "kernelspec": {
   "display_name": "Julia 1.5.3",
   "language": "julia",
   "name": "julia-1.5"
  },
  "language_info": {
   "file_extension": ".jl",
   "mimetype": "application/julia",
   "name": "julia",
   "version": "1.5.3"
  }
 },
 "nbformat": 4,
 "nbformat_minor": 4
}
