{
 "cells": [
  {
   "cell_type": "code",
   "execution_count": 5,
   "metadata": {},
   "outputs": [
    {
     "ename": "Unhandled Exception",
     "evalue": "input.fsx (2,17)-(2,21) typecheck error The value, constructor, namespace or type 'Data' is not defined.",
     "output_type": "error",
     "traceback": [
      "input.fsx (2,17)-(2,21) typecheck error The value, constructor, namespace or type 'Data' is not defined."
     ]
    }
   ],
   "source": [
    "#r \"nuget:Microsoft.Data.Analysis,0.4.0\"\n",
    "using Microsoft.Data.Analysis;"
   ]
  },
  {
   "cell_type": "code",
   "execution_count": 6,
   "metadata": {},
   "outputs": [
    {
     "ename": "Unhandled Exception",
     "evalue": "input.fsx (1,1)-(1,25) typecheck error The value or constructor 'PrimitiveDataFrameColumn' is not defined. Maybe you want one of the following:\n   Primitives\ninput.fsx (1,52)-(1,76) typecheck error The type 'PrimitiveDataFrameColumn' is not defined.\ninput.fsx (2,1)-(2,25) typecheck error The value or constructor 'PrimitiveDataFrameColumn' is not defined. Maybe you want one of the following:\n   Primitives\ninput.fsx (2,42)-(2,66) typecheck error The type 'PrimitiveDataFrameColumn' is not defined.\ninput.fsx (3,1)-(3,22) typecheck error The value or constructor 'StringDataFrameColumn' is not defined. Maybe you want one of the following:\n   StringRuneEnumerator\n   String\n   string\n   String\n   string\ninput.fsx (3,37)-(3,58) typecheck error The type 'StringDataFrameColumn' is not defined. Maybe you want one of the following:\n   StringRuneEnumerator\n   String\n   string",
     "output_type": "error",
     "traceback": [
      "input.fsx (1,1)-(1,25) typecheck error The value or constructor 'PrimitiveDataFrameColumn' is not defined. Maybe you want one of the following:\n   Primitives\ninput.fsx (1,52)-(1,76) typecheck error The type 'PrimitiveDataFrameColumn' is not defined.\ninput.fsx (2,1)-(2,25) typecheck error The value or constructor 'PrimitiveDataFrameColumn' is not defined. Maybe you want one of the following:\n   Primitives\ninput.fsx (2,42)-(2,66) typecheck error The type 'PrimitiveDataFrameColumn' is not defined.\ninput.fsx (3,1)-(3,22) typecheck error The value or constructor 'StringDataFrameColumn' is not defined. Maybe you want one of the following:\n   StringRuneEnumerator\n   String\n   string\n   String\n   string\ninput.fsx (3,37)-(3,58) typecheck error The type 'StringDataFrameColumn' is not defined. Maybe you want one of the following:\n   StringRuneEnumerator\n   String\n   string"
     ]
    }
   ],
   "source": [
    "PrimitiveDataFrameColumn<DateTime> dateTimes = new PrimitiveDataFrameColumn<DateTime>(\"DateTimes\"); // Default length is 0.\n",
    "PrimitiveDataFrameColumn<int> ints = new PrimitiveDataFrameColumn<int>(\"Ints\", 3); // Makes a column of length 3. Filled with nulls initially\n",
    "StringDataFrameColumn strings = new StringDataFrameColumn(\"Strings\", 3); // Makes a column of length 3. Filled with nulls initially"
   ]
  },
  {
   "cell_type": "code",
   "execution_count": null,
   "metadata": {},
   "outputs": [],
   "source": []
  },
  {
   "cell_type": "code",
   "execution_count": null,
   "metadata": {},
   "outputs": [],
   "source": []
  },
  {
   "cell_type": "code",
   "execution_count": null,
   "metadata": {},
   "outputs": [],
   "source": []
  },
  {
   "cell_type": "code",
   "execution_count": null,
   "metadata": {},
   "outputs": [],
   "source": []
  }
 ],
 "metadata": {
  "kernelspec": {
   "display_name": ".NET (F#)",
   "language": "F#",
   "name": ".net-fsharp"
  },
  "language_info": {
   "file_extension": ".fs",
   "mimetype": "text/x-fsharp",
   "name": "C#",
   "pygments_lexer": "fsharp",
   "version": "4.5"
  }
 },
 "nbformat": 4,
 "nbformat_minor": 4
}
